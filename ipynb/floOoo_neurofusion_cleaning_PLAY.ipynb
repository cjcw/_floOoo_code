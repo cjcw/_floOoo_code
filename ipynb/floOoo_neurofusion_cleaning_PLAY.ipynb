{
 "cells": [
  {
   "cell_type": "code",
   "execution_count": 7,
   "id": "8fcff677-0926-4283-9373-1d5ae03fdcc8",
   "metadata": {},
   "outputs": [],
   "source": [
    "import numpy as np\n",
    "import matplotlib.pyplot as plt\n",
    "import os\n",
    "import pandas as pd\n",
    "import sys\n",
    "from scipy import stats\n",
    "import seaborn as sns\n",
    "sys.path.append('/Users/charl/OneDrive/Documents/__water/floOoo/code/py/')\n",
    "import floOoo_neurofusion_functions as flo\n"
   ]
  },
  {
   "cell_type": "code",
   "execution_count": 2,
   "id": "d7868647-fe99-4791-9f4c-a288e9798bf9",
   "metadata": {},
   "outputs": [],
   "source": [
    "plt.style.use(plt.style.available[0])"
   ]
  },
  {
   "cell_type": "code",
   "execution_count": 10,
   "id": "13e7683d-f4aa-4480-816a-ed5427869e4d",
   "metadata": {},
   "outputs": [],
   "source": [
    "def reload_functions():\n",
    "    import importlib\n",
    "    import floOoo_neurofusion_functions as flo\n",
    "    importlib.reload(flo)\n",
    "    "
   ]
  },
  {
   "cell_type": "code",
   "execution_count": null,
   "id": "e1d3dc44-e482-480a-8ac3-495e3b23f310",
   "metadata": {},
   "outputs": [],
   "source": []
  },
  {
   "cell_type": "code",
   "execution_count": null,
   "id": "075dd076-7214-45ec-84fd-2aee155dbb0b",
   "metadata": {},
   "outputs": [],
   "source": []
  },
  {
   "cell_type": "code",
   "execution_count": null,
   "id": "82f38898-a976-4a6d-924a-841092762467",
   "metadata": {},
   "outputs": [],
   "source": []
  },
  {
   "cell_type": "code",
   "execution_count": null,
   "id": "7c17f910-53ca-4b5d-a023-3da88247a8d3",
   "metadata": {},
   "outputs": [],
   "source": []
  },
  {
   "cell_type": "code",
   "execution_count": 8,
   "id": "781e292f-01d2-488f-8ab8-89aa47cb4fce",
   "metadata": {},
   "outputs": [],
   "source": [
    "# load defaults\n",
    "rootDir = '/Users/charl/OneDrive/Documents/__water/floOoo/code/data/neurofusion/eeg-restingstate/'\n",
    "\n",
    "sample_rate, channels, analysisDir_temp = flo.load_defaults() # fix - move this within class\n",
    "nChannels = len(channels)\n",
    "\n",
    "chColors = {}\n",
    "for channel, color in zip(sorted(channels), sns.color_palette('Set1', nChannels)):\n",
    "    chColors[channel] = color\n",
    "    \n",
    "events = flo.load_events(rootDir)"
   ]
  },
  {
   "cell_type": "code",
   "execution_count": 11,
   "id": "e1c92e59-beeb-4bed-871d-11db148df682",
   "metadata": {},
   "outputs": [
    {
     "name": "stdout",
     "output_type": "stream",
     "text": [
      "WARNING: sample_rate to check with Ore\n"
     ]
    }
   ],
   "source": [
    "reload_functions()\n",
    "folder, filenames = flo.get_filenames(rootDir)"
   ]
  },
  {
   "cell_type": "code",
   "execution_count": null,
   "id": "666bd2f1-3111-4133-bfa6-8f7732e94834",
   "metadata": {},
   "outputs": [],
   "source": []
  },
  {
   "cell_type": "code",
   "execution_count": null,
   "id": "1b3c334d-8d34-4a07-be26-37e1d82ce255",
   "metadata": {},
   "outputs": [],
   "source": []
  },
  {
   "cell_type": "code",
   "execution_count": null,
   "id": "da3cb74e-f104-4f5d-bccc-7e609d12e8a3",
   "metadata": {},
   "outputs": [],
   "source": []
  },
  {
   "cell_type": "code",
   "execution_count": 12,
   "id": "35570303-feb8-4d7f-9bcb-2446c472b73e",
   "metadata": {},
   "outputs": [
    {
     "ename": "AttributeError",
     "evalue": "module 'floOoo_neurofusion_functions' has no attribute 'get_defaults'",
     "output_type": "error",
     "traceback": [
      "\u001b[1;31m---------------------------------------------------------------------------\u001b[0m",
      "\u001b[1;31mAttributeError\u001b[0m                            Traceback (most recent call last)",
      "Cell \u001b[1;32mIn[12], line 3\u001b[0m\n\u001b[0;32m      1\u001b[0m \u001b[38;5;66;03m# load defaults\u001b[39;00m\n\u001b[0;32m      2\u001b[0m rootDir \u001b[38;5;241m=\u001b[39m \u001b[38;5;124m'\u001b[39m\u001b[38;5;124m/Users/charl/OneDrive/Documents/__water/floOoo/code/data/neurofusion/eeg-restingstate/\u001b[39m\u001b[38;5;124m'\u001b[39m\n\u001b[1;32m----> 3\u001b[0m sample_rate, channels, analysisDir_temp \u001b[38;5;241m=\u001b[39m \u001b[43mflo\u001b[49m\u001b[38;5;241;43m.\u001b[39;49m\u001b[43mget_defaults\u001b[49m() \u001b[38;5;66;03m# fix - move this within class\u001b[39;00m\n",
      "\u001b[1;31mAttributeError\u001b[0m: module 'floOoo_neurofusion_functions' has no attribute 'get_defaults'"
     ]
    }
   ],
   "source": [
    "# load defaults\n",
    "rootDir = '/Users/charl/OneDrive/Documents/__water/floOoo/code/data/neurofusion/eeg-restingstate/'\n",
    "sample_rate, channels, analysisDir_temp = flo.get_defaults() # fix - move this within class"
   ]
  },
  {
   "cell_type": "code",
   "execution_count": 13,
   "id": "1c7ba68c-f6a1-48d6-bce4-9274ecb96d3a",
   "metadata": {},
   "outputs": [
    {
     "data": {
      "text/plain": [
       "'/Users/charl/OneDrive/Documents/__water/floOoo/code/data/neurofusion/eeg-restingstate/'"
      ]
     },
     "execution_count": 13,
     "metadata": {},
     "output_type": "execute_result"
    }
   ],
   "source": [
    "rootDir"
   ]
  },
  {
   "cell_type": "markdown",
   "id": "b6ecbc5f-03ec-40ea-9710-8a32a356ccd2",
   "metadata": {},
   "source": [
    "# Class play"
   ]
  },
  {
   "cell_type": "code",
   "execution_count": 134,
   "id": "4611ab47-e072-4800-b46a-193876d86cea",
   "metadata": {},
   "outputs": [],
   "source": [
    "def load_chData(folder, filename):\n",
    "        data = pd.read_csv(folder+filename)\n",
    "        chData = np.row_stack([data[channel] for channel in channels])\n",
    "        return chData\n",
    "\n",
    "def get_maxSDs(chData):\n",
    "    maxSDs = np.abs(stats.zscore(chData, axis=1)).max(axis=0)\n",
    "    return maxSDs\n",
    "    "
   ]
  },
  {
   "cell_type": "markdown",
   "id": "50dc271d-fd3b-4df2-989b-f84096660bb7",
   "metadata": {},
   "source": [
    "# Data cleaning"
   ]
  },
  {
   "cell_type": "code",
   "execution_count": 125,
   "id": "0e7e3170-d9fc-476e-8ca9-a7d07e8c0b6b",
   "metadata": {},
   "outputs": [
    {
     "data": {
      "text/plain": [
       "<Figure size 2400x14000 with 0 Axes>"
      ]
     },
     "metadata": {},
     "output_type": "display_data"
    }
   ],
   "source": [
    "zThresh = 20\n",
    "color_zThresh = 'r'\n",
    "nHistBins = 100\n",
    "\n",
    "\n",
    "nFiles = len(filenames)\n",
    "\n",
    "w_trace, w_hist = 18, 6\n",
    "h = 5\n",
    "facecolor = None\n",
    "wTot = w_trace + w_hist\n",
    "hTot = h * nFiles\n",
    "\n",
    "\n",
    "plt.figure(figsize=(wTot, hTot))\n",
    "grid = plt.GridSpec(hTot, wTot, hspace=1.5, wspace=0.5)\n",
    "\n",
    "\n",
    "\n",
    "currH = 0\n",
    "plt.figure(figsize=(20, nFiles*5))\n",
    "for fi, filename in enumerate(filenames):\n",
    "    currW = 0\n",
    "    plt.subplot(grid[currH:(currH+h), currW:(currW+w_trace)], facecolor=facecolor)\n",
    "    plt.yticks(fontsize=14)\n",
    "    flo.plot_title(filename.split('_')[1])\n",
    "\n",
    "    # @@@\n",
    "    chData = load_chData(folder, filename)\n",
    "    maxSDs = get_max_SDs(chData)\n",
    "\n",
    "    \n",
    "    plt.plot(maxSDs)\n",
    "    plt.hlines(zThresh, 0, len(maxSDs), linestyles='--', color=color_zThresh, lw=2, alpha=0.5)\n",
    "    currW += w_trace\n",
    "\n",
    "    plt.subplot(grid[currH:(currH+h), currW:(currW+w_hist)], facecolor=facecolor)\n",
    "\n",
    "    edges = np.linspace(0, np.ceil(maxSDs.max()), nHistBins+1)\n",
    "    cens, counts, _ = flo.get_hist(maxSDs, edges, norm=True)\n",
    "    x, y = flo.get_xy_4_histFill(cens, counts)\n",
    "    plt.plot(x, y)\n",
    "    plt.fill_between(x, np.zeros_like(x), y, alpha=0.4)\n",
    "    plt.vlines(zThresh, 0, counts.max(), linestyles='--', color=color_zThresh, lw=2, alpha=0.5)\n",
    "    plt.yscale('log')\n",
    "    \n",
    "    currH += h\n",
    "    \n",
    "flo.save_image('jjmaxSDs')\n"
   ]
  },
  {
   "cell_type": "code",
   "execution_count": 142,
   "id": "46234e8b-93ec-4e28-9d36-d30835792c21",
   "metadata": {},
   "outputs": [],
   "source": [
    "# explore higher zscores"
   ]
  },
  {
   "cell_type": "code",
   "execution_count": 127,
   "id": "decc6da2-d927-4863-bc51-dc21c581e7b6",
   "metadata": {},
   "outputs": [],
   "source": [
    "filename = filenames[0]"
   ]
  },
  {
   "cell_type": "code",
   "execution_count": 135,
   "id": "b564f94e-153c-4b75-bec1-84b6830163b6",
   "metadata": {},
   "outputs": [],
   "source": [
    "chData = load_chData(folder, filename)\n",
    "maxSDs = get_maxSDs(chData)"
   ]
  },
  {
   "cell_type": "code",
   "execution_count": 141,
   "id": "c9cd3bb3-8b0f-459b-8677-8aa3e841e735",
   "metadata": {},
   "outputs": [
    {
     "data": {
      "image/png": "[encoded data removed]",
      "text/plain": [
       "<Figure size 640x480 with 1 Axes>"
      ]
     },
     "metadata": {},
     "output_type": "display_data"
    }
   ],
   "source": [
    "edges = np.linspace(0, np.ceil(maxSDs.max()), nHistBins+1)\n",
    "cens, counts, _ = flo.get_hist(maxSDs, edges, norm=True)\n",
    "x, y = flo.get_xy_4_histFill(cens, counts)\n",
    "plt.plot(x, y)\n",
    "plt.yscale('log')"
   ]
  },
  {
   "cell_type": "code",
   "execution_count": 162,
   "id": "9d11ffff-a7dc-4565-b852-4abbd8e46a19",
   "metadata": {},
   "outputs": [
    {
     "ename": "IndexError",
     "evalue": "list index out of range",
     "output_type": "error",
     "traceback": [
      "\u001b[1;31m---------------------------------------------------------------------------\u001b[0m",
      "\u001b[1;31mIndexError\u001b[0m                                Traceback (most recent call last)",
      "Cell \u001b[1;32mIn[162], line 7\u001b[0m\n\u001b[0;32m      4\u001b[0m y \u001b[38;5;241m=\u001b[39m []\n\u001b[0;32m      6\u001b[0m \u001b[38;5;28;01mfor\u001b[39;00m zThresh \u001b[38;5;129;01min\u001b[39;00m zThreshs:\n\u001b[1;32m----> 7\u001b[0m     bouts \u001b[38;5;241m=\u001b[39m \u001b[43mflo\u001b[49m\u001b[38;5;241;43m.\u001b[39;49m\u001b[43mget_boutWindows\u001b[49m\u001b[43m(\u001b[49m\u001b[43mmaxSDs\u001b[49m\u001b[43m \u001b[49m\u001b[38;5;241;43m<\u001b[39;49m\u001b[43m \u001b[49m\u001b[43mzThresh\u001b[49m\u001b[43m)\u001b[49m\n\u001b[0;32m      8\u001b[0m     \u001b[38;5;28;01mif\u001b[39;00m \u001b[38;5;129;01mnot\u001b[39;00m \u001b[38;5;28mlen\u001b[39m(bouts):\n\u001b[0;32m      9\u001b[0m         y\u001b[38;5;241m.\u001b[39mappend(np\u001b[38;5;241m.\u001b[39mnan)\n",
      "File \u001b[1;32mC:\\Users/charl/OneDrive/Documents/__water/floOoo/code/py\\floOoo_neurofusion_baseFunctions.py:181\u001b[0m, in \u001b[0;36mget_boutWindows\u001b[1;34m(boutStatus)\u001b[0m\n\u001b[0;32m    179\u001b[0m \u001b[38;5;28;01mif\u001b[39;00m boutEndInds[\u001b[38;5;241m0\u001b[39m] \u001b[38;5;241m<\u001b[39m boutStartInds[\u001b[38;5;241m0\u001b[39m]:\n\u001b[0;32m    180\u001b[0m     boutEndInds \u001b[38;5;241m=\u001b[39m boutEndInds[\u001b[38;5;241m1\u001b[39m:]\n\u001b[1;32m--> 181\u001b[0m \u001b[38;5;28;01mif\u001b[39;00m boutStartInds[\u001b[38;5;241m-\u001b[39m\u001b[38;5;241m1\u001b[39m] \u001b[38;5;241m>\u001b[39m \u001b[43mboutEndInds\u001b[49m\u001b[43m[\u001b[49m\u001b[38;5;241;43m-\u001b[39;49m\u001b[38;5;241;43m1\u001b[39;49m\u001b[43m]\u001b[49m:\n\u001b[0;32m    182\u001b[0m     boutEndInds\u001b[38;5;241m.\u001b[39mappend(\u001b[38;5;28mlen\u001b[39m(boutStatus)\u001b[38;5;241m-\u001b[39m\u001b[38;5;241m1\u001b[39m)\n\u001b[0;32m    183\u001b[0m bouts \u001b[38;5;241m=\u001b[39m np\u001b[38;5;241m.\u001b[39mcolumn_stack([boutStartInds, boutEndInds])\n",
      "\u001b[1;31mIndexError\u001b[0m: list index out of range"
     ]
    }
   ],
   "source": [
    "zThreshs = np.linspace(0, np.ceil(maxSDs.max()), nHistBins+1)\n",
    "\n",
    "\n",
    "y = []\n",
    "\n",
    "for zThresh in zThreshs:\n",
    "    bouts = flo.get_boutWindows(maxSDs < zThresh)\n",
    "    if not len(bouts):\n",
    "        y.append(np.nan)\n",
    "    else:\n",
    "        y.append(np.median(np.subtract(bouts[:, 1], bouts[:, 0]))/sample_rate)\n",
    "y = np.array(y)\n",
    "\n",
    "#maxSDs, zThresh"
   ]
  },
  {
   "cell_type": "code",
   "execution_count": 163,
   "id": "740ca443-aeb1-4093-9ec0-7ae6611803ba",
   "metadata": {},
   "outputs": [
    {
     "data": {
      "text/plain": [
       "[<matplotlib.lines.Line2D at 0x240103e6e30>]"
      ]
     },
     "execution_count": 163,
     "metadata": {},
     "output_type": "execute_result"
    },
    {
     "data": {
      "image/png": "[encoded data removed]",
      "text/plain": [
       "<Figure size 640x480 with 1 Axes>"
      ]
     },
     "metadata": {},
     "output_type": "display_data"
    }
   ],
   "source": [
    "plt.plot(y)"
   ]
  },
  {
   "cell_type": "code",
   "execution_count": null,
   "id": "fddc34b4-5fbc-48ec-a425-8fde39cb5b18",
   "metadata": {},
   "outputs": [],
   "source": []
  },
  {
   "cell_type": "code",
   "execution_count": null,
   "id": "394495ac-89a6-4296-bd89-971b636ba345",
   "metadata": {},
   "outputs": [],
   "source": []
  },
  {
   "cell_type": "code",
   "execution_count": null,
   "id": "9e987da8-abe2-4526-96c7-0ebe0d4bedb1",
   "metadata": {},
   "outputs": [],
   "source": []
  },
  {
   "cell_type": "code",
   "execution_count": 122,
   "id": "92ac7fdb-d856-4e59-88a7-ca290f40d69c",
   "metadata": {},
   "outputs": [],
   "source": [
    "os.chdir(analysisDir_temp)"
   ]
  },
  {
   "cell_type": "code",
   "execution_count": 123,
   "id": "1755965b-5a4d-40cf-a11f-a719eff4fb2d",
   "metadata": {},
   "outputs": [
    {
     "name": "stdout",
     "output_type": "stream",
     "text": [
      "WARNING: sample_rate to check with Ore\n"
     ]
    }
   ],
   "source": [
    "reload_functions()"
   ]
  },
  {
   "cell_type": "code",
   "execution_count": null,
   "id": "26900457-f072-4ece-a9c9-b33c630f1c92",
   "metadata": {},
   "outputs": [],
   "source": []
  },
  {
   "cell_type": "code",
   "execution_count": null,
   "id": "790a679c-0882-45eb-8b8f-b927203e63ac",
   "metadata": {},
   "outputs": [],
   "source": []
  },
  {
   "cell_type": "code",
   "execution_count": 75,
   "id": "62806515-2f3e-469b-bade-41246fca2a8d",
   "metadata": {},
   "outputs": [
    {
     "name": "stdout",
     "output_type": "stream",
     "text": [
      "WARNING: sample_rate to check with Ore\n"
     ]
    },
    {
     "name": "stderr",
     "output_type": "stream",
     "text": [
      "C:\\Users\\charl\\AppData\\Local\\Temp\\ipykernel_22104\\1567541902.py:2: DeprecationWarning: the imp module is deprecated in favour of importlib and slated for removal in Python 3.12; see the module's documentation for alternative uses\n",
      "  import imp\n"
     ]
    }
   ],
   "source": []
  },
  {
   "cell_type": "code",
   "execution_count": 77,
   "id": "aded163d-b199-4da8-8f8a-9e673930fe6f",
   "metadata": {},
   "outputs": [
    {
     "name": "stdout",
     "output_type": "stream",
     "text": [
      "WARNING: sample_rate to check with Ore\n"
     ]
    }
   ],
   "source": [
    "reload_functions()"
   ]
  },
  {
   "cell_type": "code",
   "execution_count": 59,
   "id": "820a48dd-b475-4654-b7d1-f313b24ec2c8",
   "metadata": {},
   "outputs": [
    {
     "data": {
      "image/png": "[encoded data removed]",
      "text/plain": [
       "<Figure size 640x480 with 1 Axes>"
      ]
     },
     "metadata": {},
     "output_type": "display_data"
    }
   ],
   "source": [
    "for channel in channels:\n",
    "    plt.plot(chData[channel][:1000])"
   ]
  },
  {
   "cell_type": "code",
   "execution_count": null,
   "id": "88384fee-dfba-42bc-9ca5-f8d0e8e89c12",
   "metadata": {},
   "outputs": [],
   "source": [
    "chData[channel]"
   ]
  },
  {
   "cell_type": "code",
   "execution_count": 164,
   "id": "ea7cca5a-370d-4b5e-9289-3199277df679",
   "metadata": {},
   "outputs": [
    {
     "data": {
      "text/plain": [
       "array([ 2.40995905, 11.50231432, 32.96988586, ...,  0.54520932,\n",
       "        0.80909594,  0.95817265])"
      ]
     },
     "execution_count": 164,
     "metadata": {},
     "output_type": "execute_result"
    }
   ],
   "source": [
    "window = [20, 40]\n",
    "maxSDs, wind"
   ]
  },
  {
   "cell_type": "code",
   "execution_count": null,
   "id": "a86cc865-5745-410c-9284-4f6def9777f8",
   "metadata": {},
   "outputs": [],
   "source": []
  },
  {
   "cell_type": "code",
   "execution_count": null,
   "id": "ca73c86a-1c5f-4778-8b6d-549a337ab509",
   "metadata": {},
   "outputs": [],
   "source": []
  },
  {
   "cell_type": "code",
   "execution_count": null,
   "id": "f23dd3b9-0daa-40a4-a085-a0778596e485",
   "metadata": {},
   "outputs": [],
   "source": []
  },
  {
   "cell_type": "code",
   "execution_count": null,
   "id": "0b4564b6-2920-4ea5-bcae-2e03f72f5e2c",
   "metadata": {},
   "outputs": [],
   "source": []
  },
  {
   "cell_type": "code",
   "execution_count": null,
   "id": "572dc3ea-ef99-4739-8f7d-30cdcd546b1b",
   "metadata": {},
   "outputs": [],
   "source": []
  },
  {
   "cell_type": "code",
   "execution_count": null,
   "id": "e01be26b-7221-4095-b4b6-03a3208a0fa6",
   "metadata": {},
   "outputs": [],
   "source": []
  },
  {
   "cell_type": "code",
   "execution_count": null,
   "id": "8339d8ed-4e16-4489-a333-374abd772ec2",
   "metadata": {},
   "outputs": [],
   "source": []
  },
  {
   "cell_type": "code",
   "execution_count": 12,
   "id": "5265752b-0467-4bf7-8e23-a9c860c481be",
   "metadata": {},
   "outputs": [],
   "source": [
    "repo_id = 'neurofusion/eeg-restingstate'\n",
    "repo_type = 'dataset'"
   ]
  },
  {
   "cell_type": "code",
   "execution_count": 10,
   "id": "20ced5a6-715f-43c7-b150-10b0085c712b",
   "metadata": {},
   "outputs": [],
   "source": [
    "download = False\n",
    "if download:\n",
    "    os.chdir(rootDir)\n",
    "    snapshot_download(repo_id, repo_type=repo_type, cache_dir=rootDir, local_dir_use_symlinks=True)\n",
    "    #snapshot_download('neurofusion/eeg-restingstate', repo_type='dataset', allow_patterns='*csv')\n"
   ]
  },
  {
   "cell_type": "code",
   "execution_count": 13,
   "id": "c76f8653-893a-469f-b67f-4d80153bcd40",
   "metadata": {},
   "outputs": [],
   "source": [
    "repo_a, repo_b = repo_id.split('/')\n",
    "repoStr = repo_type+'s'+'--'+repo_a+'--'+repo_b"
   ]
  },
  {
   "cell_type": "code",
   "execution_count": 14,
   "id": "fa3e6896-75d4-426d-8ed3-0555db8bcc7c",
   "metadata": {},
   "outputs": [],
   "source": [
    "from datasets import load_dataset"
   ]
  },
  {
   "cell_type": "code",
   "execution_count": 21,
   "id": "446d68d9-1e9d-4277-bb2b-037a1b3dd78c",
   "metadata": {},
   "outputs": [
    {
     "data": {
      "application/vnd.jupyter.widget-view+json": {
       "model_id": "ea104cfc2e2d4dc08b6c3a4501bf3618",
       "version_major": 2,
       "version_minor": 0
      },
      "text/plain": [
       "Resolving data files:   0%|          | 0/153 [00:00<?, ?it/s]"
      ]
     },
     "metadata": {},
     "output_type": "display_data"
    },
    {
     "data": {
      "application/vnd.jupyter.widget-view+json": {
       "model_id": "4475908555344a2c84036a07c5988636",
       "version_major": 2,
       "version_minor": 0
      },
      "text/plain": [
       "Generating train split: 0 examples [00:00, ? examples/s]"
      ]
     },
     "metadata": {},
     "output_type": "display_data"
    },
    {
     "ename": "DatasetGenerationCastError",
     "evalue": "An error occurred while generating the dataset\n\nAll the data files must have the same columns, but at some point there are 41 new columns (CP3_alpha, PO3_gamma, F6_gamma, C4_alpha, C3_alpha, CP4_beta, CP4_delta, F5_alpha, PO3_theta, F6_theta, C4_gamma, C3_beta, PO4_delta, F5_gamma, C4_delta, F5_delta, CP4_gamma, PO4_beta, CP3_theta, CP3_beta, F6_beta, CP3_delta, PO3_delta, C3_gamma, CP3_gamma, PO4_theta, unixTimestamp, F6_alpha, PO3_alpha, PO3_beta, PO4_alpha, PO4_gamma, C4_beta, F5_beta, C3_delta, C3_theta, F6_delta, C4_theta, CP4_alpha, F5_theta, CP4_theta) and 4 missing columns (metric, probability, timestamp, label).\n\nThis happened while the json dataset builder was generating data using\n\nhf://datasets/neurofusion/eeg-restingstate/powerByBand/powerByBand_1674239692.json (at revision fe43ac768e0e0df525c5925edb9c27c186730b3b)\n\nPlease either edit the data files to have matching columns, or separate them into different configurations (see docs at https://hf.co/docs/hub/datasets-manual-configuration#multiple-configurations)",
     "output_type": "error",
     "traceback": [
      "\u001b[1;31m---------------------------------------------------------------------------\u001b[0m",
      "\u001b[1;31mCastError\u001b[0m                                 Traceback (most recent call last)",
      "File \u001b[1;32m~\\AppData\\Local\\Packages\\PythonSoftwareFoundation.Python.3.10_qbz5n2kfra8p0\\LocalCache\\local-packages\\Python310\\site-packages\\datasets\\builder.py:1989\u001b[0m, in \u001b[0;36mArrowBasedBuilder._prepare_split_single\u001b[1;34m(self, gen_kwargs, fpath, file_format, max_shard_size, job_id)\u001b[0m\n\u001b[0;32m   1988\u001b[0m \u001b[38;5;28;01mtry\u001b[39;00m:\n\u001b[1;32m-> 1989\u001b[0m     \u001b[43mwriter\u001b[49m\u001b[38;5;241;43m.\u001b[39;49m\u001b[43mwrite_table\u001b[49m\u001b[43m(\u001b[49m\u001b[43mtable\u001b[49m\u001b[43m)\u001b[49m\n\u001b[0;32m   1990\u001b[0m \u001b[38;5;28;01mexcept\u001b[39;00m CastError \u001b[38;5;28;01mas\u001b[39;00m cast_error:\n",
      "File \u001b[1;32m~\\AppData\\Local\\Packages\\PythonSoftwareFoundation.Python.3.10_qbz5n2kfra8p0\\LocalCache\\local-packages\\Python310\\site-packages\\datasets\\arrow_writer.py:584\u001b[0m, in \u001b[0;36mArrowWriter.write_table\u001b[1;34m(self, pa_table, writer_batch_size)\u001b[0m\n\u001b[0;32m    583\u001b[0m pa_table \u001b[38;5;241m=\u001b[39m pa_table\u001b[38;5;241m.\u001b[39mcombine_chunks()\n\u001b[1;32m--> 584\u001b[0m pa_table \u001b[38;5;241m=\u001b[39m \u001b[43mtable_cast\u001b[49m\u001b[43m(\u001b[49m\u001b[43mpa_table\u001b[49m\u001b[43m,\u001b[49m\u001b[43m \u001b[49m\u001b[38;5;28;43mself\u001b[39;49m\u001b[38;5;241;43m.\u001b[39;49m\u001b[43m_schema\u001b[49m\u001b[43m)\u001b[49m\n\u001b[0;32m    585\u001b[0m \u001b[38;5;28;01mif\u001b[39;00m \u001b[38;5;28mself\u001b[39m\u001b[38;5;241m.\u001b[39membed_local_files:\n",
      "File \u001b[1;32m~\\AppData\\Local\\Packages\\PythonSoftwareFoundation.Python.3.10_qbz5n2kfra8p0\\LocalCache\\local-packages\\Python310\\site-packages\\datasets\\table.py:2240\u001b[0m, in \u001b[0;36mtable_cast\u001b[1;34m(table, schema)\u001b[0m\n\u001b[0;32m   2239\u001b[0m \u001b[38;5;28;01mif\u001b[39;00m table\u001b[38;5;241m.\u001b[39mschema \u001b[38;5;241m!=\u001b[39m schema:\n\u001b[1;32m-> 2240\u001b[0m     \u001b[38;5;28;01mreturn\u001b[39;00m \u001b[43mcast_table_to_schema\u001b[49m\u001b[43m(\u001b[49m\u001b[43mtable\u001b[49m\u001b[43m,\u001b[49m\u001b[43m \u001b[49m\u001b[43mschema\u001b[49m\u001b[43m)\u001b[49m\n\u001b[0;32m   2241\u001b[0m \u001b[38;5;28;01melif\u001b[39;00m table\u001b[38;5;241m.\u001b[39mschema\u001b[38;5;241m.\u001b[39mmetadata \u001b[38;5;241m!=\u001b[39m schema\u001b[38;5;241m.\u001b[39mmetadata:\n",
      "File \u001b[1;32m~\\AppData\\Local\\Packages\\PythonSoftwareFoundation.Python.3.10_qbz5n2kfra8p0\\LocalCache\\local-packages\\Python310\\site-packages\\datasets\\table.py:2194\u001b[0m, in \u001b[0;36mcast_table_to_schema\u001b[1;34m(table, schema)\u001b[0m\n\u001b[0;32m   2193\u001b[0m \u001b[38;5;28;01mif\u001b[39;00m \u001b[38;5;28msorted\u001b[39m(table\u001b[38;5;241m.\u001b[39mcolumn_names) \u001b[38;5;241m!=\u001b[39m \u001b[38;5;28msorted\u001b[39m(features):\n\u001b[1;32m-> 2194\u001b[0m     \u001b[38;5;28;01mraise\u001b[39;00m CastError(\n\u001b[0;32m   2195\u001b[0m         \u001b[38;5;124mf\u001b[39m\u001b[38;5;124m\"\u001b[39m\u001b[38;5;124mCouldn\u001b[39m\u001b[38;5;124m'\u001b[39m\u001b[38;5;124mt cast\u001b[39m\u001b[38;5;130;01m\\n\u001b[39;00m\u001b[38;5;132;01m{\u001b[39;00mtable\u001b[38;5;241m.\u001b[39mschema\u001b[38;5;132;01m}\u001b[39;00m\u001b[38;5;130;01m\\n\u001b[39;00m\u001b[38;5;124mto\u001b[39m\u001b[38;5;130;01m\\n\u001b[39;00m\u001b[38;5;132;01m{\u001b[39;00mfeatures\u001b[38;5;132;01m}\u001b[39;00m\u001b[38;5;130;01m\\n\u001b[39;00m\u001b[38;5;124mbecause column names don\u001b[39m\u001b[38;5;124m'\u001b[39m\u001b[38;5;124mt match\u001b[39m\u001b[38;5;124m\"\u001b[39m,\n\u001b[0;32m   2196\u001b[0m         table_column_names\u001b[38;5;241m=\u001b[39mtable\u001b[38;5;241m.\u001b[39mcolumn_names,\n\u001b[0;32m   2197\u001b[0m         requested_column_names\u001b[38;5;241m=\u001b[39m\u001b[38;5;28mlist\u001b[39m(features),\n\u001b[0;32m   2198\u001b[0m     )\n\u001b[0;32m   2199\u001b[0m arrays \u001b[38;5;241m=\u001b[39m [cast_array_to_feature(table[name], feature) \u001b[38;5;28;01mfor\u001b[39;00m name, feature \u001b[38;5;129;01min\u001b[39;00m features\u001b[38;5;241m.\u001b[39mitems()]\n",
      "\u001b[1;31mCastError\u001b[0m: Couldn't cast\nCP3_alpha: double\nPO3_gamma: double\nF6_gamma: double\nC4_alpha: double\nC3_alpha: double\nCP4_beta: double\nCP4_delta: double\nF5_alpha: double\nPO3_theta: double\nF6_theta: double\nC4_gamma: double\nC3_beta: double\nPO4_delta: double\nF5_gamma: double\nC4_delta: double\nF5_delta: double\nCP4_gamma: double\nPO4_beta: double\nCP3_theta: double\nCP3_beta: double\nF6_beta: double\nCP3_delta: double\nPO3_delta: double\nC3_gamma: double\nCP3_gamma: double\nPO4_theta: double\nunixTimestamp: int64\nF6_alpha: double\nPO3_alpha: double\nPO3_beta: double\nPO4_alpha: double\nPO4_gamma: double\nC4_beta: double\nF5_beta: double\nC3_delta: double\nC3_theta: double\nF6_delta: double\nC4_theta: double\nCP4_alpha: double\nF5_theta: double\nCP4_theta: double\nto\n{'metric': Value(dtype='string', id=None), 'probability': Value(dtype='float64', id=None), 'timestamp': Value(dtype='int64', id=None), 'label': Value(dtype='string', id=None)}\nbecause column names don't match",
      "\nDuring handling of the above exception, another exception occurred:\n",
      "\u001b[1;31mDatasetGenerationCastError\u001b[0m                Traceback (most recent call last)",
      "Cell \u001b[1;32mIn[21], line 1\u001b[0m\n\u001b[1;32m----> 1\u001b[0m data \u001b[38;5;241m=\u001b[39m \u001b[43mload_dataset\u001b[49m\u001b[43m(\u001b[49m\u001b[43mrepo_id\u001b[49m\u001b[43m)\u001b[49m\n\u001b[0;32m      2\u001b[0m \u001b[38;5;66;03m#data = load_dataset(repo_id, allow_patterns='*rawBrainwaves*')\u001b[39;00m\n",
      "File \u001b[1;32m~\\AppData\\Local\\Packages\\PythonSoftwareFoundation.Python.3.10_qbz5n2kfra8p0\\LocalCache\\local-packages\\Python310\\site-packages\\datasets\\load.py:2582\u001b[0m, in \u001b[0;36mload_dataset\u001b[1;34m(path, name, data_dir, data_files, split, cache_dir, features, download_config, download_mode, verification_mode, ignore_verifications, keep_in_memory, save_infos, revision, token, use_auth_token, task, streaming, num_proc, storage_options, trust_remote_code, **config_kwargs)\u001b[0m\n\u001b[0;32m   2579\u001b[0m try_from_hf_gcs \u001b[38;5;241m=\u001b[39m path \u001b[38;5;129;01mnot\u001b[39;00m \u001b[38;5;129;01min\u001b[39;00m _PACKAGED_DATASETS_MODULES\n\u001b[0;32m   2581\u001b[0m \u001b[38;5;66;03m# Download and prepare data\u001b[39;00m\n\u001b[1;32m-> 2582\u001b[0m \u001b[43mbuilder_instance\u001b[49m\u001b[38;5;241;43m.\u001b[39;49m\u001b[43mdownload_and_prepare\u001b[49m\u001b[43m(\u001b[49m\n\u001b[0;32m   2583\u001b[0m \u001b[43m    \u001b[49m\u001b[43mdownload_config\u001b[49m\u001b[38;5;241;43m=\u001b[39;49m\u001b[43mdownload_config\u001b[49m\u001b[43m,\u001b[49m\n\u001b[0;32m   2584\u001b[0m \u001b[43m    \u001b[49m\u001b[43mdownload_mode\u001b[49m\u001b[38;5;241;43m=\u001b[39;49m\u001b[43mdownload_mode\u001b[49m\u001b[43m,\u001b[49m\n\u001b[0;32m   2585\u001b[0m \u001b[43m    \u001b[49m\u001b[43mverification_mode\u001b[49m\u001b[38;5;241;43m=\u001b[39;49m\u001b[43mverification_mode\u001b[49m\u001b[43m,\u001b[49m\n\u001b[0;32m   2586\u001b[0m \u001b[43m    \u001b[49m\u001b[43mtry_from_hf_gcs\u001b[49m\u001b[38;5;241;43m=\u001b[39;49m\u001b[43mtry_from_hf_gcs\u001b[49m\u001b[43m,\u001b[49m\n\u001b[0;32m   2587\u001b[0m \u001b[43m    \u001b[49m\u001b[43mnum_proc\u001b[49m\u001b[38;5;241;43m=\u001b[39;49m\u001b[43mnum_proc\u001b[49m\u001b[43m,\u001b[49m\n\u001b[0;32m   2588\u001b[0m \u001b[43m    \u001b[49m\u001b[43mstorage_options\u001b[49m\u001b[38;5;241;43m=\u001b[39;49m\u001b[43mstorage_options\u001b[49m\u001b[43m,\u001b[49m\n\u001b[0;32m   2589\u001b[0m \u001b[43m\u001b[49m\u001b[43m)\u001b[49m\n\u001b[0;32m   2591\u001b[0m \u001b[38;5;66;03m# Build dataset for splits\u001b[39;00m\n\u001b[0;32m   2592\u001b[0m keep_in_memory \u001b[38;5;241m=\u001b[39m (\n\u001b[0;32m   2593\u001b[0m     keep_in_memory \u001b[38;5;28;01mif\u001b[39;00m keep_in_memory \u001b[38;5;129;01mis\u001b[39;00m \u001b[38;5;129;01mnot\u001b[39;00m \u001b[38;5;28;01mNone\u001b[39;00m \u001b[38;5;28;01melse\u001b[39;00m is_small_dataset(builder_instance\u001b[38;5;241m.\u001b[39minfo\u001b[38;5;241m.\u001b[39mdataset_size)\n\u001b[0;32m   2594\u001b[0m )\n",
      "File \u001b[1;32m~\\AppData\\Local\\Packages\\PythonSoftwareFoundation.Python.3.10_qbz5n2kfra8p0\\LocalCache\\local-packages\\Python310\\site-packages\\datasets\\builder.py:1005\u001b[0m, in \u001b[0;36mDatasetBuilder.download_and_prepare\u001b[1;34m(self, output_dir, download_config, download_mode, verification_mode, ignore_verifications, try_from_hf_gcs, dl_manager, base_path, use_auth_token, file_format, max_shard_size, num_proc, storage_options, **download_and_prepare_kwargs)\u001b[0m\n\u001b[0;32m   1003\u001b[0m     \u001b[38;5;28;01mif\u001b[39;00m num_proc \u001b[38;5;129;01mis\u001b[39;00m \u001b[38;5;129;01mnot\u001b[39;00m \u001b[38;5;28;01mNone\u001b[39;00m:\n\u001b[0;32m   1004\u001b[0m         prepare_split_kwargs[\u001b[38;5;124m\"\u001b[39m\u001b[38;5;124mnum_proc\u001b[39m\u001b[38;5;124m\"\u001b[39m] \u001b[38;5;241m=\u001b[39m num_proc\n\u001b[1;32m-> 1005\u001b[0m     \u001b[38;5;28mself\u001b[39m\u001b[38;5;241m.\u001b[39m_download_and_prepare(\n\u001b[0;32m   1006\u001b[0m         dl_manager\u001b[38;5;241m=\u001b[39mdl_manager,\n\u001b[0;32m   1007\u001b[0m         verification_mode\u001b[38;5;241m=\u001b[39mverification_mode,\n\u001b[0;32m   1008\u001b[0m         \u001b[38;5;241m*\u001b[39m\u001b[38;5;241m*\u001b[39mprepare_split_kwargs,\n\u001b[0;32m   1009\u001b[0m         \u001b[38;5;241m*\u001b[39m\u001b[38;5;241m*\u001b[39mdownload_and_prepare_kwargs,\n\u001b[0;32m   1010\u001b[0m     )\n\u001b[0;32m   1011\u001b[0m \u001b[38;5;66;03m# Sync info\u001b[39;00m\n\u001b[0;32m   1012\u001b[0m \u001b[38;5;28mself\u001b[39m\u001b[38;5;241m.\u001b[39minfo\u001b[38;5;241m.\u001b[39mdataset_size \u001b[38;5;241m=\u001b[39m \u001b[38;5;28msum\u001b[39m(split\u001b[38;5;241m.\u001b[39mnum_bytes \u001b[38;5;28;01mfor\u001b[39;00m split \u001b[38;5;129;01min\u001b[39;00m \u001b[38;5;28mself\u001b[39m\u001b[38;5;241m.\u001b[39minfo\u001b[38;5;241m.\u001b[39msplits\u001b[38;5;241m.\u001b[39mvalues())\n",
      "File \u001b[1;32m~\\AppData\\Local\\Packages\\PythonSoftwareFoundation.Python.3.10_qbz5n2kfra8p0\\LocalCache\\local-packages\\Python310\\site-packages\\datasets\\builder.py:1100\u001b[0m, in \u001b[0;36mDatasetBuilder._download_and_prepare\u001b[1;34m(self, dl_manager, verification_mode, **prepare_split_kwargs)\u001b[0m\n\u001b[0;32m   1096\u001b[0m split_dict\u001b[38;5;241m.\u001b[39madd(split_generator\u001b[38;5;241m.\u001b[39msplit_info)\n\u001b[0;32m   1098\u001b[0m \u001b[38;5;28;01mtry\u001b[39;00m:\n\u001b[0;32m   1099\u001b[0m     \u001b[38;5;66;03m# Prepare split will record examples associated to the split\u001b[39;00m\n\u001b[1;32m-> 1100\u001b[0m     \u001b[38;5;28mself\u001b[39m\u001b[38;5;241m.\u001b[39m_prepare_split(split_generator, \u001b[38;5;241m*\u001b[39m\u001b[38;5;241m*\u001b[39mprepare_split_kwargs)\n\u001b[0;32m   1101\u001b[0m \u001b[38;5;28;01mexcept\u001b[39;00m \u001b[38;5;167;01mOSError\u001b[39;00m \u001b[38;5;28;01mas\u001b[39;00m e:\n\u001b[0;32m   1102\u001b[0m     \u001b[38;5;28;01mraise\u001b[39;00m \u001b[38;5;167;01mOSError\u001b[39;00m(\n\u001b[0;32m   1103\u001b[0m         \u001b[38;5;124m\"\u001b[39m\u001b[38;5;124mCannot find data file. \u001b[39m\u001b[38;5;124m\"\u001b[39m\n\u001b[0;32m   1104\u001b[0m         \u001b[38;5;241m+\u001b[39m (\u001b[38;5;28mself\u001b[39m\u001b[38;5;241m.\u001b[39mmanual_download_instructions \u001b[38;5;129;01mor\u001b[39;00m \u001b[38;5;124m\"\u001b[39m\u001b[38;5;124m\"\u001b[39m)\n\u001b[0;32m   1105\u001b[0m         \u001b[38;5;241m+\u001b[39m \u001b[38;5;124m\"\u001b[39m\u001b[38;5;130;01m\\n\u001b[39;00m\u001b[38;5;124mOriginal error:\u001b[39m\u001b[38;5;130;01m\\n\u001b[39;00m\u001b[38;5;124m\"\u001b[39m\n\u001b[0;32m   1106\u001b[0m         \u001b[38;5;241m+\u001b[39m \u001b[38;5;28mstr\u001b[39m(e)\n\u001b[0;32m   1107\u001b[0m     ) \u001b[38;5;28;01mfrom\u001b[39;00m \u001b[38;5;28;01mNone\u001b[39;00m\n",
      "File \u001b[1;32m~\\AppData\\Local\\Packages\\PythonSoftwareFoundation.Python.3.10_qbz5n2kfra8p0\\LocalCache\\local-packages\\Python310\\site-packages\\datasets\\builder.py:1860\u001b[0m, in \u001b[0;36mArrowBasedBuilder._prepare_split\u001b[1;34m(self, split_generator, file_format, num_proc, max_shard_size)\u001b[0m\n\u001b[0;32m   1858\u001b[0m job_id \u001b[38;5;241m=\u001b[39m \u001b[38;5;241m0\u001b[39m\n\u001b[0;32m   1859\u001b[0m \u001b[38;5;28;01mwith\u001b[39;00m pbar:\n\u001b[1;32m-> 1860\u001b[0m     \u001b[38;5;28;01mfor\u001b[39;00m job_id, done, content \u001b[38;5;129;01min\u001b[39;00m \u001b[38;5;28mself\u001b[39m\u001b[38;5;241m.\u001b[39m_prepare_split_single(\n\u001b[0;32m   1861\u001b[0m         gen_kwargs\u001b[38;5;241m=\u001b[39mgen_kwargs, job_id\u001b[38;5;241m=\u001b[39mjob_id, \u001b[38;5;241m*\u001b[39m\u001b[38;5;241m*\u001b[39m_prepare_split_args\n\u001b[0;32m   1862\u001b[0m     ):\n\u001b[0;32m   1863\u001b[0m         \u001b[38;5;28;01mif\u001b[39;00m done:\n\u001b[0;32m   1864\u001b[0m             result \u001b[38;5;241m=\u001b[39m content\n",
      "File \u001b[1;32m~\\AppData\\Local\\Packages\\PythonSoftwareFoundation.Python.3.10_qbz5n2kfra8p0\\LocalCache\\local-packages\\Python310\\site-packages\\datasets\\builder.py:1991\u001b[0m, in \u001b[0;36mArrowBasedBuilder._prepare_split_single\u001b[1;34m(self, gen_kwargs, fpath, file_format, max_shard_size, job_id)\u001b[0m\n\u001b[0;32m   1989\u001b[0m     writer\u001b[38;5;241m.\u001b[39mwrite_table(table)\n\u001b[0;32m   1990\u001b[0m \u001b[38;5;28;01mexcept\u001b[39;00m CastError \u001b[38;5;28;01mas\u001b[39;00m cast_error:\n\u001b[1;32m-> 1991\u001b[0m     \u001b[38;5;28;01mraise\u001b[39;00m DatasetGenerationCastError\u001b[38;5;241m.\u001b[39mfrom_cast_error(\n\u001b[0;32m   1992\u001b[0m         cast_error\u001b[38;5;241m=\u001b[39mcast_error,\n\u001b[0;32m   1993\u001b[0m         builder_name\u001b[38;5;241m=\u001b[39m\u001b[38;5;28mself\u001b[39m\u001b[38;5;241m.\u001b[39minfo\u001b[38;5;241m.\u001b[39mbuilder_name,\n\u001b[0;32m   1994\u001b[0m         gen_kwargs\u001b[38;5;241m=\u001b[39mgen_kwargs,\n\u001b[0;32m   1995\u001b[0m         token\u001b[38;5;241m=\u001b[39m\u001b[38;5;28mself\u001b[39m\u001b[38;5;241m.\u001b[39mtoken,\n\u001b[0;32m   1996\u001b[0m     )\n\u001b[0;32m   1997\u001b[0m num_examples_progress_update \u001b[38;5;241m+\u001b[39m\u001b[38;5;241m=\u001b[39m \u001b[38;5;28mlen\u001b[39m(table)\n\u001b[0;32m   1998\u001b[0m \u001b[38;5;28;01mif\u001b[39;00m time\u001b[38;5;241m.\u001b[39mtime() \u001b[38;5;241m>\u001b[39m _time \u001b[38;5;241m+\u001b[39m config\u001b[38;5;241m.\u001b[39mPBAR_REFRESH_TIME_INTERVAL:\n",
      "\u001b[1;31mDatasetGenerationCastError\u001b[0m: An error occurred while generating the dataset\n\nAll the data files must have the same columns, but at some point there are 41 new columns (CP3_alpha, PO3_gamma, F6_gamma, C4_alpha, C3_alpha, CP4_beta, CP4_delta, F5_alpha, PO3_theta, F6_theta, C4_gamma, C3_beta, PO4_delta, F5_gamma, C4_delta, F5_delta, CP4_gamma, PO4_beta, CP3_theta, CP3_beta, F6_beta, CP3_delta, PO3_delta, C3_gamma, CP3_gamma, PO4_theta, unixTimestamp, F6_alpha, PO3_alpha, PO3_beta, PO4_alpha, PO4_gamma, C4_beta, F5_beta, C3_delta, C3_theta, F6_delta, C4_theta, CP4_alpha, F5_theta, CP4_theta) and 4 missing columns (metric, probability, timestamp, label).\n\nThis happened while the json dataset builder was generating data using\n\nhf://datasets/neurofusion/eeg-restingstate/powerByBand/powerByBand_1674239692.json (at revision fe43ac768e0e0df525c5925edb9c27c186730b3b)\n\nPlease either edit the data files to have matching columns, or separate them into different configurations (see docs at https://hf.co/docs/hub/datasets-manual-configuration#multiple-configurations)"
     ]
    }
   ],
   "source": [
    "data = load_dataset(repo_id)\n",
    "#data = load_dataset(repo_id, allow_patterns='*rawBrainwaves*')\n"
   ]
  },
  {
   "cell_type": "code",
   "execution_count": 16,
   "id": "948c6e06-e302-4d63-904c-977a1929bf99",
   "metadata": {},
   "outputs": [
    {
     "ename": "NameError",
     "evalue": "name 'data' is not defined",
     "output_type": "error",
     "traceback": [
      "\u001b[1;31m---------------------------------------------------------------------------\u001b[0m",
      "\u001b[1;31mNameError\u001b[0m                                 Traceback (most recent call last)",
      "Cell \u001b[1;32mIn[16], line 1\u001b[0m\n\u001b[1;32m----> 1\u001b[0m \u001b[43mdata\u001b[49m\n",
      "\u001b[1;31mNameError\u001b[0m: name 'data' is not defined"
     ]
    }
   ],
   "source": [
    "data"
   ]
  },
  {
   "cell_type": "code",
   "execution_count": null,
   "id": "8bfa58b3-00e7-481a-90bf-301efa1bf7cd",
   "metadata": {},
   "outputs": [],
   "source": []
  },
  {
   "cell_type": "code",
   "execution_count": 19,
   "id": "495d5bd1-8fef-4171-a11e-8baa7957a9ae",
   "metadata": {},
   "outputs": [
    {
     "data": {
      "application/vnd.jupyter.widget-view+json": {
       "model_id": "4e7c0b00c438408399a6daf0a5b380a8",
       "version_major": 2,
       "version_minor": 0
      },
      "text/plain": [
       "Downloading readme:   0%|          | 0.00/8.18k [00:00<?, ?B/s]"
      ]
     },
     "metadata": {},
     "output_type": "display_data"
    },
    {
     "name": "stderr",
     "output_type": "stream",
     "text": [
      "Downloading data: 100%|████████████████████████████████████████████████████████████| 32.4M/32.4M [00:24<00:00, 1.35MB/s]\n",
      "Downloading data: 100%|█████████████████████████████████████████████████████████████| 1.86M/1.86M [00:02<00:00, 881kB/s]\n"
     ]
    },
    {
     "data": {
      "application/vnd.jupyter.widget-view+json": {
       "model_id": "1a140f5d011d41c7ab904cc7dbf70ff0",
       "version_major": 2,
       "version_minor": 0
      },
      "text/plain": [
       "Generating train split: 0 examples [00:00, ? examples/s]"
      ]
     },
     "metadata": {},
     "output_type": "display_data"
    },
    {
     "data": {
      "application/vnd.jupyter.widget-view+json": {
       "model_id": "a0c8628fcd1a4525af5bc72b14f1566b",
       "version_major": 2,
       "version_minor": 0
      },
      "text/plain": [
       "Generating test split: 0 examples [00:00, ? examples/s]"
      ]
     },
     "metadata": {},
     "output_type": "display_data"
    }
   ],
   "source": [
    "data = load_dataset('gretelai/synthetic_text_to_sql')"
   ]
  },
  {
   "cell_type": "code",
   "execution_count": 20,
   "id": "2ab47610-f04b-4053-b376-6572a0eebc17",
   "metadata": {},
   "outputs": [
    {
     "data": {
      "text/plain": [
       "DatasetDict({\n",
       "    train: Dataset({\n",
       "        features: ['id', 'domain', 'domain_description', 'sql_complexity', 'sql_complexity_description', 'sql_task_type', 'sql_task_type_description', 'sql_prompt', 'sql_context', 'sql', 'sql_explanation'],\n",
       "        num_rows: 100000\n",
       "    })\n",
       "    test: Dataset({\n",
       "        features: ['id', 'domain', 'domain_description', 'sql_complexity', 'sql_complexity_description', 'sql_task_type', 'sql_task_type_description', 'sql_prompt', 'sql_context', 'sql', 'sql_explanation'],\n",
       "        num_rows: 5851\n",
       "    })\n",
       "})"
      ]
     },
     "execution_count": 20,
     "metadata": {},
     "output_type": "execute_result"
    }
   ],
   "source": [
    "data"
   ]
  },
  {
   "cell_type": "code",
   "execution_count": null,
   "id": "fca7e14e-ad44-4cc4-be9e-e2f9c1fe8ed4",
   "metadata": {},
   "outputs": [],
   "source": []
  },
  {
   "cell_type": "code",
   "execution_count": null,
   "id": "af2842af-df56-4c93-8480-5f0811d642e0",
   "metadata": {},
   "outputs": [],
   "source": []
  },
  {
   "cell_type": "code",
   "execution_count": 98,
   "id": "c78ebec8-1386-43da-982e-515591b002f7",
   "metadata": {},
   "outputs": [
    {
     "name": "stdout",
     "output_type": "stream",
     "text": [
      "WARNING: sample_rate to check with Ore\n"
     ]
    }
   ],
   "source": [
    "reload_functions()\n"
   ]
  },
  {
   "cell_type": "code",
   "execution_count": 91,
   "id": "9ca4ceda-8820-4ffc-88e7-4b5708c5d6b6",
   "metadata": {},
   "outputs": [],
   "source": [
    "x = data[channel]"
   ]
  },
  {
   "cell_type": "code",
   "execution_count": 99,
   "id": "894aba89-1f68-4ed7-abd8-fa5e1820aaf9",
   "metadata": {},
   "outputs": [],
   "source": [
    "freqAx, psd = flo.get_psd(x, sample_rate) "
   ]
  },
  {
   "cell_type": "code",
   "execution_count": 101,
   "id": "6acc8cda-5515-4655-a8ea-66261e3b3972",
   "metadata": {},
   "outputs": [
    {
     "data": {
      "image/png": "[encoded data removed]",
      "text/plain": [
       "<Figure size 640x480 with 1 Axes>"
      ]
     },
     "metadata": {},
     "output_type": "display_data"
    }
   ],
   "source": [
    "plt.plot(freqAx, psd)\n",
    "plt.xscale('log')"
   ]
  },
  {
   "cell_type": "code",
   "execution_count": null,
   "id": "c8707d8c-66ef-48fd-9f5d-f75b706127c6",
   "metadata": {},
   "outputs": [],
   "source": []
  },
  {
   "cell_type": "code",
   "execution_count": null,
   "id": "67952152-8b23-4c42-a25f-5611f4dde06b",
   "metadata": {},
   "outputs": [],
   "source": []
  },
  {
   "cell_type": "code",
   "execution_count": null,
   "id": "7bf761a6-bcf1-4a83-a3d3-73851b7899f4",
   "metadata": {},
   "outputs": [],
   "source": []
  },
  {
   "cell_type": "code",
   "execution_count": null,
   "id": "420e55e7-186e-4a17-947a-e83429856d75",
   "metadata": {},
   "outputs": [],
   "source": []
  },
  {
   "cell_type": "code",
   "execution_count": null,
   "id": "bc135895-c412-42f2-a639-eb14325a0d99",
   "metadata": {},
   "outputs": [],
   "source": []
  },
  {
   "cell_type": "code",
   "execution_count": 17,
   "id": "c72952d3-281b-4267-8f4b-3155f8048173",
   "metadata": {},
   "outputs": [],
   "source": []
  },
  {
   "cell_type": "code",
   "execution_count": 25,
   "id": "541c89d2-7172-4c48-81ad-211003110dff",
   "metadata": {},
   "outputs": [],
   "source": [
    "filename = os.listdir(rootDir)[0]\n",
    "path = rootDir+filename"
   ]
  },
  {
   "cell_type": "code",
   "execution_count": 34,
   "id": "8f0f52cc-3d5b-4712-81e7-10dca940fad3",
   "metadata": {},
   "outputs": [
    {
     "data": {
      "text/plain": [
       "'/Users/charl/OneDrive/Documents/__water/floOoo/code/data/focus_focus_1674239692.json'"
      ]
     },
     "execution_count": 34,
     "metadata": {},
     "output_type": "execute_result"
    }
   ],
   "source": [
    "path"
   ]
  },
  {
   "cell_type": "code",
   "execution_count": 28,
   "id": "09bac3b5-d381-4126-84a0-cf2aa936b23b",
   "metadata": {},
   "outputs": [],
   "source": []
  },
  {
   "cell_type": "code",
   "execution_count": 146,
   "id": "ea34a79e-f946-4e29-8202-d6658a7eb39b",
   "metadata": {},
   "outputs": [
    {
     "data": {
      "text/plain": [
       "'/Users/charl/OneDrive/Documents/__water/floOoo/code/data/rawBrainwaves_rawBrainwaves_1674239692.csv'"
      ]
     },
     "execution_count": 146,
     "metadata": {},
     "output_type": "execute_result"
    }
   ],
   "source": [
    "path"
   ]
  },
  {
   "cell_type": "code",
   "execution_count": 147,
   "id": "529cc5c6-a4c3-45b1-a83a-74d55a189797",
   "metadata": {},
   "outputs": [
    {
     "ename": "JSONDecodeError",
     "evalue": "Expecting value: line 1 column 1 (char 0)",
     "output_type": "error",
     "traceback": [
      "\u001b[1;31m---------------------------------------------------------------------------\u001b[0m",
      "\u001b[1;31mJSONDecodeError\u001b[0m                           Traceback (most recent call last)",
      "Cell \u001b[1;32mIn[147], line 2\u001b[0m\n\u001b[0;32m      1\u001b[0m \u001b[38;5;28;01mwith\u001b[39;00m \u001b[38;5;28mopen\u001b[39m(path, \u001b[38;5;124m'\u001b[39m\u001b[38;5;124mr\u001b[39m\u001b[38;5;124m'\u001b[39m) \u001b[38;5;28;01mas\u001b[39;00m f:\n\u001b[1;32m----> 2\u001b[0m     data \u001b[38;5;241m=\u001b[39m \u001b[43mjson\u001b[49m\u001b[38;5;241;43m.\u001b[39;49m\u001b[43mload\u001b[49m\u001b[43m(\u001b[49m\u001b[43mf\u001b[49m\u001b[43m)\u001b[49m\n",
      "File \u001b[1;32mC:\\Program Files\\WindowsApps\\PythonSoftwareFoundation.Python.3.10_3.10.3056.0_x64__qbz5n2kfra8p0\\lib\\json\\__init__.py:293\u001b[0m, in \u001b[0;36mload\u001b[1;34m(fp, cls, object_hook, parse_float, parse_int, parse_constant, object_pairs_hook, **kw)\u001b[0m\n\u001b[0;32m    274\u001b[0m \u001b[38;5;28;01mdef\u001b[39;00m \u001b[38;5;21mload\u001b[39m(fp, \u001b[38;5;241m*\u001b[39m, \u001b[38;5;28mcls\u001b[39m\u001b[38;5;241m=\u001b[39m\u001b[38;5;28;01mNone\u001b[39;00m, object_hook\u001b[38;5;241m=\u001b[39m\u001b[38;5;28;01mNone\u001b[39;00m, parse_float\u001b[38;5;241m=\u001b[39m\u001b[38;5;28;01mNone\u001b[39;00m,\n\u001b[0;32m    275\u001b[0m         parse_int\u001b[38;5;241m=\u001b[39m\u001b[38;5;28;01mNone\u001b[39;00m, parse_constant\u001b[38;5;241m=\u001b[39m\u001b[38;5;28;01mNone\u001b[39;00m, object_pairs_hook\u001b[38;5;241m=\u001b[39m\u001b[38;5;28;01mNone\u001b[39;00m, \u001b[38;5;241m*\u001b[39m\u001b[38;5;241m*\u001b[39mkw):\n\u001b[0;32m    276\u001b[0m \u001b[38;5;250m    \u001b[39m\u001b[38;5;124;03m\"\"\"Deserialize ``fp`` (a ``.read()``-supporting file-like object containing\u001b[39;00m\n\u001b[0;32m    277\u001b[0m \u001b[38;5;124;03m    a JSON document) to a Python object.\u001b[39;00m\n\u001b[0;32m    278\u001b[0m \n\u001b[1;32m   (...)\u001b[0m\n\u001b[0;32m    291\u001b[0m \u001b[38;5;124;03m    kwarg; otherwise ``JSONDecoder`` is used.\u001b[39;00m\n\u001b[0;32m    292\u001b[0m \u001b[38;5;124;03m    \"\"\"\u001b[39;00m\n\u001b[1;32m--> 293\u001b[0m     \u001b[38;5;28;01mreturn\u001b[39;00m loads(fp\u001b[38;5;241m.\u001b[39mread(),\n\u001b[0;32m    294\u001b[0m         \u001b[38;5;28mcls\u001b[39m\u001b[38;5;241m=\u001b[39m\u001b[38;5;28mcls\u001b[39m, object_hook\u001b[38;5;241m=\u001b[39mobject_hook,\n\u001b[0;32m    295\u001b[0m         parse_float\u001b[38;5;241m=\u001b[39mparse_float, parse_int\u001b[38;5;241m=\u001b[39mparse_int,\n\u001b[0;32m    296\u001b[0m         parse_constant\u001b[38;5;241m=\u001b[39mparse_constant, object_pairs_hook\u001b[38;5;241m=\u001b[39mobject_pairs_hook, \u001b[38;5;241m*\u001b[39m\u001b[38;5;241m*\u001b[39mkw)\n",
      "File \u001b[1;32mC:\\Program Files\\WindowsApps\\PythonSoftwareFoundation.Python.3.10_3.10.3056.0_x64__qbz5n2kfra8p0\\lib\\json\\__init__.py:346\u001b[0m, in \u001b[0;36mloads\u001b[1;34m(s, cls, object_hook, parse_float, parse_int, parse_constant, object_pairs_hook, **kw)\u001b[0m\n\u001b[0;32m    341\u001b[0m     s \u001b[38;5;241m=\u001b[39m s\u001b[38;5;241m.\u001b[39mdecode(detect_encoding(s), \u001b[38;5;124m'\u001b[39m\u001b[38;5;124msurrogatepass\u001b[39m\u001b[38;5;124m'\u001b[39m)\n\u001b[0;32m    343\u001b[0m \u001b[38;5;28;01mif\u001b[39;00m (\u001b[38;5;28mcls\u001b[39m \u001b[38;5;129;01mis\u001b[39;00m \u001b[38;5;28;01mNone\u001b[39;00m \u001b[38;5;129;01mand\u001b[39;00m object_hook \u001b[38;5;129;01mis\u001b[39;00m \u001b[38;5;28;01mNone\u001b[39;00m \u001b[38;5;129;01mand\u001b[39;00m\n\u001b[0;32m    344\u001b[0m         parse_int \u001b[38;5;129;01mis\u001b[39;00m \u001b[38;5;28;01mNone\u001b[39;00m \u001b[38;5;129;01mand\u001b[39;00m parse_float \u001b[38;5;129;01mis\u001b[39;00m \u001b[38;5;28;01mNone\u001b[39;00m \u001b[38;5;129;01mand\u001b[39;00m\n\u001b[0;32m    345\u001b[0m         parse_constant \u001b[38;5;129;01mis\u001b[39;00m \u001b[38;5;28;01mNone\u001b[39;00m \u001b[38;5;129;01mand\u001b[39;00m object_pairs_hook \u001b[38;5;129;01mis\u001b[39;00m \u001b[38;5;28;01mNone\u001b[39;00m \u001b[38;5;129;01mand\u001b[39;00m \u001b[38;5;129;01mnot\u001b[39;00m kw):\n\u001b[1;32m--> 346\u001b[0m     \u001b[38;5;28;01mreturn\u001b[39;00m \u001b[43m_default_decoder\u001b[49m\u001b[38;5;241;43m.\u001b[39;49m\u001b[43mdecode\u001b[49m\u001b[43m(\u001b[49m\u001b[43ms\u001b[49m\u001b[43m)\u001b[49m\n\u001b[0;32m    347\u001b[0m \u001b[38;5;28;01mif\u001b[39;00m \u001b[38;5;28mcls\u001b[39m \u001b[38;5;129;01mis\u001b[39;00m \u001b[38;5;28;01mNone\u001b[39;00m:\n\u001b[0;32m    348\u001b[0m     \u001b[38;5;28mcls\u001b[39m \u001b[38;5;241m=\u001b[39m JSONDecoder\n",
      "File \u001b[1;32mC:\\Program Files\\WindowsApps\\PythonSoftwareFoundation.Python.3.10_3.10.3056.0_x64__qbz5n2kfra8p0\\lib\\json\\decoder.py:337\u001b[0m, in \u001b[0;36mJSONDecoder.decode\u001b[1;34m(self, s, _w)\u001b[0m\n\u001b[0;32m    332\u001b[0m \u001b[38;5;28;01mdef\u001b[39;00m \u001b[38;5;21mdecode\u001b[39m(\u001b[38;5;28mself\u001b[39m, s, _w\u001b[38;5;241m=\u001b[39mWHITESPACE\u001b[38;5;241m.\u001b[39mmatch):\n\u001b[0;32m    333\u001b[0m \u001b[38;5;250m    \u001b[39m\u001b[38;5;124;03m\"\"\"Return the Python representation of ``s`` (a ``str`` instance\u001b[39;00m\n\u001b[0;32m    334\u001b[0m \u001b[38;5;124;03m    containing a JSON document).\u001b[39;00m\n\u001b[0;32m    335\u001b[0m \n\u001b[0;32m    336\u001b[0m \u001b[38;5;124;03m    \"\"\"\u001b[39;00m\n\u001b[1;32m--> 337\u001b[0m     obj, end \u001b[38;5;241m=\u001b[39m \u001b[38;5;28;43mself\u001b[39;49m\u001b[38;5;241;43m.\u001b[39;49m\u001b[43mraw_decode\u001b[49m\u001b[43m(\u001b[49m\u001b[43ms\u001b[49m\u001b[43m,\u001b[49m\u001b[43m \u001b[49m\u001b[43midx\u001b[49m\u001b[38;5;241;43m=\u001b[39;49m\u001b[43m_w\u001b[49m\u001b[43m(\u001b[49m\u001b[43ms\u001b[49m\u001b[43m,\u001b[49m\u001b[43m \u001b[49m\u001b[38;5;241;43m0\u001b[39;49m\u001b[43m)\u001b[49m\u001b[38;5;241;43m.\u001b[39;49m\u001b[43mend\u001b[49m\u001b[43m(\u001b[49m\u001b[43m)\u001b[49m\u001b[43m)\u001b[49m\n\u001b[0;32m    338\u001b[0m     end \u001b[38;5;241m=\u001b[39m _w(s, end)\u001b[38;5;241m.\u001b[39mend()\n\u001b[0;32m    339\u001b[0m     \u001b[38;5;28;01mif\u001b[39;00m end \u001b[38;5;241m!=\u001b[39m \u001b[38;5;28mlen\u001b[39m(s):\n",
      "File \u001b[1;32mC:\\Program Files\\WindowsApps\\PythonSoftwareFoundation.Python.3.10_3.10.3056.0_x64__qbz5n2kfra8p0\\lib\\json\\decoder.py:355\u001b[0m, in \u001b[0;36mJSONDecoder.raw_decode\u001b[1;34m(self, s, idx)\u001b[0m\n\u001b[0;32m    353\u001b[0m     obj, end \u001b[38;5;241m=\u001b[39m \u001b[38;5;28mself\u001b[39m\u001b[38;5;241m.\u001b[39mscan_once(s, idx)\n\u001b[0;32m    354\u001b[0m \u001b[38;5;28;01mexcept\u001b[39;00m \u001b[38;5;167;01mStopIteration\u001b[39;00m \u001b[38;5;28;01mas\u001b[39;00m err:\n\u001b[1;32m--> 355\u001b[0m     \u001b[38;5;28;01mraise\u001b[39;00m JSONDecodeError(\u001b[38;5;124m\"\u001b[39m\u001b[38;5;124mExpecting value\u001b[39m\u001b[38;5;124m\"\u001b[39m, s, err\u001b[38;5;241m.\u001b[39mvalue) \u001b[38;5;28;01mfrom\u001b[39;00m \u001b[38;5;28;01mNone\u001b[39;00m\n\u001b[0;32m    356\u001b[0m \u001b[38;5;28;01mreturn\u001b[39;00m obj, end\n",
      "\u001b[1;31mJSONDecodeError\u001b[0m: Expecting value: line 1 column 1 (char 0)"
     ]
    }
   ],
   "source": [
    "with open(path, 'r') as f:\n",
    "    data = json.load(f)"
   ]
  },
  {
   "cell_type": "code",
   "execution_count": null,
   "id": "54b352d0-afed-46e4-95eb-4e10af9effa3",
   "metadata": {},
   "outputs": [],
   "source": []
  },
  {
   "cell_type": "code",
   "execution_count": 45,
   "id": "7126ac4b-c3b8-4cbe-ba90-2143d351086a",
   "metadata": {},
   "outputs": [],
   "source": [
    "ks = list(data[0].keys())\n",
    "kData = {}\n",
    "for k in ks:\n",
    "    kData[k] = [datai[k] for datai in data] "
   ]
  },
  {
   "cell_type": "code",
   "execution_count": 56,
   "id": "c537ff54-d42c-49aa-842e-8114ca68e555",
   "metadata": {},
   "outputs": [
    {
     "data": {
      "text/plain": [
       "[<matplotlib.lines.Line2D at 0x2356e002650>]"
      ]
     },
     "execution_count": 56,
     "metadata": {},
     "output_type": "execute_result"
    },
    {
     "data": {
      "image/png": "[encoded data removed]",
      "text/plain": [
       "<Figure size 640x480 with 1 Axes>"
      ]
     },
     "metadata": {},
     "output_type": "display_data"
    }
   ],
   "source": [
    "ks\n",
    "['label', 'metric', 'probability', 'timestamp'][1]\n",
    "\n",
    "plt.plot(kData['probability'])\n"
   ]
  },
  {
   "cell_type": "code",
   "execution_count": null,
   "id": "b45239d9-3ec2-4f53-993f-2c54118c9abf",
   "metadata": {},
   "outputs": [],
   "source": []
  },
  {
   "cell_type": "code",
   "execution_count": null,
   "id": "264439b4-1b9e-4054-bd9f-20e7a4a9d3a1",
   "metadata": {},
   "outputs": [],
   "source": []
  },
  {
   "cell_type": "code",
   "execution_count": 66,
   "id": "f5476932-0bd5-47fa-9711-fcea6895b0b4",
   "metadata": {},
   "outputs": [
    {
     "data": {
      "text/plain": [
       "'/Users/charl/OneDrive/Documents/__water/floOoo/code/data/rawBrainwaves_rawBrainwaves_1674239692.csv'"
      ]
     },
     "execution_count": 66,
     "metadata": {},
     "output_type": "execute_result"
    }
   ],
   "source": [
    "filenames = [filename for filename in os.listdir(rootDir) if 'rawBrainwaves' in filename]\n",
    "filename = filenames[0]\n",
    "\n",
    "path = rootDir+filename\n",
    "path"
   ]
  },
  {
   "cell_type": "code",
   "execution_count": 67,
   "id": "929d0952-9f77-435f-a5ec-9cf537e6416a",
   "metadata": {},
   "outputs": [],
   "source": [
    "data = pd.read_csv(path)"
   ]
  },
  {
   "cell_type": "code",
   "execution_count": 70,
   "id": "bd74273a-3385-42a6-9aa4-bd188c571cba",
   "metadata": {},
   "outputs": [
    {
     "data": {
      "text/plain": [
       "(153488, 10)"
      ]
     },
     "execution_count": 70,
     "metadata": {},
     "output_type": "execute_result"
    }
   ],
   "source": [
    "data.shape"
   ]
  },
  {
   "cell_type": "code",
   "execution_count": 73,
   "id": "a06adc2d-0d8f-43ad-bd81-1a2b85732826",
   "metadata": {
    "scrolled": true
   },
   "outputs": [
    {
     "data": {
      "text/plain": [
       "Index(['Unnamed: 0', 'unixTimestamp', 'CP3', 'C3', 'F5', 'PO3', 'PO4', 'F6',\n",
       "       'C4', 'CP4'],\n",
       "      dtype='object')"
      ]
     },
     "execution_count": 73,
     "metadata": {},
     "output_type": "execute_result"
    }
   ],
   "source": [
    "data.keys()"
   ]
  },
  {
   "cell_type": "code",
   "execution_count": 55,
   "id": "60b71383-de7d-4973-881a-4c2773176aa5",
   "metadata": {},
   "outputs": [],
   "source": []
  },
  {
   "cell_type": "code",
   "execution_count": null,
   "id": "2bbb6a64-db8d-4c75-b1b1-353d7ff7e830",
   "metadata": {},
   "outputs": [],
   "source": []
  }
 ],
 "metadata": {
  "kernelspec": {
   "display_name": "Python 3 (ipykernel)",
   "language": "python",
   "name": "python3"
  },
  "language_info": {
   "codemirror_mode": {
    "name": "ipython",
    "version": 3
   },
   "file_extension": ".py",
   "mimetype": "text/x-python",
   "name": "python",
   "nbconvert_exporter": "python",
   "pygments_lexer": "ipython3",
   "version": "3.10.11"
  }
 },
 "nbformat": 4,
 "nbformat_minor": 5
}
